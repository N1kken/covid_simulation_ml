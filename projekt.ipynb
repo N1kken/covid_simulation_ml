{
 "cells": [
  {
   "cell_type": "code",
   "execution_count": null,
   "metadata": {},
   "outputs": [],
   "source": [
    "import geopandas as gpd\n",
    "import pandas as pd\n",
    "import numpy as np\n",
    "import matplotlib.patches as mpatches\n",
    "from matplotlib import pyplot as plt\n",
    "from sklearn.cluster import KMeans\n",
    "from sklearn.preprocessing import StandardScaler\n",
    "from sklearn.preprocessing import LabelEncoder\n",
    "from sklearn.preprocessing import MinMaxScaler\n",
    "from scipy.cluster.hierarchy import dendrogram\n",
    "from sklearn import metrics"
   ]
  },
  {
   "cell_type": "code",
   "execution_count": null,
   "metadata": {},
   "outputs": [],
   "source": [
    "shapefile = 'data/ne_110m_admin_0_countries.shp'"
   ]
  },
  {
   "cell_type": "code",
   "execution_count": null,
   "metadata": {},
   "outputs": [],
   "source": [
    "gdf = gpd.read_file(shapefile)[['ADMIN', 'NAME_PL', 'ADM0_A3', 'geometry']]\n",
    "gdf.columns = ['country', 'country_pl', 'country_code', 'geometry']"
   ]
  },
  {
   "cell_type": "code",
   "execution_count": null,
   "metadata": {
    "scrolled": true
   },
   "outputs": [],
   "source": [
    "gdf.head()"
   ]
  },
  {
   "cell_type": "code",
   "execution_count": null,
   "metadata": {
    "scrolled": true
   },
   "outputs": [],
   "source": [
    "gdf.plot(figsize=(20,8), color=\"grey\")"
   ]
  },
  {
   "cell_type": "code",
   "execution_count": null,
   "metadata": {},
   "outputs": [],
   "source": [
    "covid_data = pd.read_csv('data/cases_covid.csv')"
   ]
  },
  {
   "cell_type": "code",
   "execution_count": null,
   "metadata": {
    "scrolled": true
   },
   "outputs": [],
   "source": [
    "merged = gdf.merge(covid_data, left_on = 'country_code', right_on = 'countryterritoryCode')\n",
    "merged"
   ]
  },
  {
   "cell_type": "code",
   "execution_count": null,
   "metadata": {},
   "outputs": [],
   "source": [
    "covid_data.describe()"
   ]
  },
  {
   "cell_type": "code",
   "execution_count": null,
   "metadata": {},
   "outputs": [],
   "source": [
    "max_cases = covid_data[\"cases\"].max()\n",
    "merged[merged['cases'] == max_cases]"
   ]
  },
  {
   "cell_type": "code",
   "execution_count": null,
   "metadata": {},
   "outputs": [],
   "source": [
    "max_deaths = covid_data[\"deaths\"].max()\n",
    "merged[merged['deaths'] == max_deaths]"
   ]
  },
  {
   "cell_type": "code",
   "execution_count": null,
   "metadata": {},
   "outputs": [],
   "source": [
    "covid_data[covid_data['countryterritoryCode'] == 'CHN']"
   ]
  },
  {
   "cell_type": "code",
   "execution_count": null,
   "metadata": {},
   "outputs": [],
   "source": [
    "covid_data[covid_data['countryterritoryCode'] == 'CHN'].head(10)"
   ]
  },
  {
   "cell_type": "code",
   "execution_count": null,
   "metadata": {},
   "outputs": [],
   "source": [
    "covid_data[covid_data['countryterritoryCode'] == 'CHN'].tail(50)"
   ]
  },
  {
   "cell_type": "code",
   "execution_count": null,
   "metadata": {},
   "outputs": [],
   "source": [
    "covid_data['dateRep'] = pd.to_datetime(covid_data['dateRep'],dayfirst=True)\n",
    "covid_data_date_index = covid_data.set_index('dateRep')"
   ]
  },
  {
   "cell_type": "code",
   "execution_count": null,
   "metadata": {},
   "outputs": [],
   "source": [
    "covid_data_date_index.deaths.plot(figsize=(20,8), legend=True)"
   ]
  },
  {
   "cell_type": "code",
   "execution_count": null,
   "metadata": {},
   "outputs": [],
   "source": [
    "covid_data_date_index.cases.plot(figsize=(20,8), legend=True)"
   ]
  },
  {
   "cell_type": "code",
   "execution_count": null,
   "metadata": {},
   "outputs": [],
   "source": [
    "for i in range(1, 6):\n",
    "    print(i)\n",
    "    print(merged[merged['month'] == i]['cases'].sum())\n",
    "    "
   ]
  },
  {
   "cell_type": "code",
   "execution_count": null,
   "metadata": {},
   "outputs": [],
   "source": [
    "import sys\n",
    "!conda install --yes --prefix {sys.prefix} seaborn\n",
    "import seaborn as sns"
   ]
  },
  {
   "cell_type": "code",
   "execution_count": null,
   "metadata": {},
   "outputs": [],
   "source": [
    "covid_data_scaler = pd.read_csv('data/covid_data_scaler.csv')"
   ]
  },
  {
   "cell_type": "code",
   "execution_count": null,
   "metadata": {},
   "outputs": [],
   "source": [
    "from mpl_toolkits.mplot3d import Axes3D\n",
    "\n",
    "fig = plt.figure(figsize=(6,6))\n",
    "ax = Axes3D(fig)\n",
    "ax.scatter(covid_data_scaler['month'], covid_data_scaler['cases'], covid_data_scaler['deaths'], depthshade=False)\n",
    "ax.set_xlabel('year')\n",
    "ax.set_ylabel('cases')\n",
    "ax.set_zlabel('deaths')\n",
    "ax.view_init(39, 30)\n",
    "plt.show()"
   ]
  },
  {
   "cell_type": "code",
   "execution_count": null,
   "metadata": {},
   "outputs": [],
   "source": [
    "plt.scatter(covid_data['deaths'], covid_data['cases'])\n",
    "plt.xlabel('Ofiary')\n",
    "plt.ylabel('Przypadki')\n",
    "plt.title('Covid')"
   ]
  },
  {
   "cell_type": "code",
   "execution_count": null,
   "metadata": {},
   "outputs": [],
   "source": [
    "covid = ['deaths', 'cases']"
   ]
  },
  {
   "cell_type": "code",
   "execution_count": null,
   "metadata": {},
   "outputs": [],
   "source": [
    "def print_clustering(covid_data_scaler, labels):\n",
    "    labels_and_styles = dict(zip(range(5), list(\"v*+xDop\")))\n",
    "    \n",
    "    for i in range(covid_data_scaler.shape[0]):\n",
    "        lab = labels[i]\n",
    "        marker = labels_and_styles.get(lab, '*')\n",
    "        plt.scatter(covid_data_scaler.iloc[i, 0], covid_data_scaler.iloc[i, 1], marker=labels_and_styles[lab], c='b')\n",
    "    \n",
    "    plt.show()"
   ]
  },
  {
   "cell_type": "code",
   "execution_count": null,
   "metadata": {},
   "outputs": [],
   "source": [
    "k_3 = KMeans(n_clusters=3)\n",
    "k_3.fit(covid_data_scaler[covid])\n",
    "print_clustering(covid_data_scaler[covid], k_3.labels_)"
   ]
  },
  {
   "cell_type": "code",
   "execution_count": null,
   "metadata": {},
   "outputs": [],
   "source": [
    "k_4 = KMeans(n_clusters=4)\n",
    "k_4.fit(covid_data_scaler[covid])\n",
    "print_clustering(covid_data_scaler[covid], k_4.labels_)"
   ]
  },
  {
   "cell_type": "code",
   "execution_count": null,
   "metadata": {},
   "outputs": [],
   "source": [
    "k_2 = KMeans(n_clusters=2)\n",
    "k_2.fit(covid_data_scaler[covid])\n",
    "print_clustering(covid_data_scaler[covid], k_2.labels_)"
   ]
  },
  {
   "cell_type": "code",
   "execution_count": null,
   "metadata": {},
   "outputs": [],
   "source": [
    "all_countries_on_map = gdf.country_code.unique()"
   ]
  },
  {
   "cell_type": "code",
   "execution_count": null,
   "metadata": {},
   "outputs": [],
   "source": [
    "countries_on_date = merged[merged['dateRep'] == '01/01/2020']['country_code'].tolist()"
   ]
  },
  {
   "cell_type": "code",
   "execution_count": null,
   "metadata": {},
   "outputs": [],
   "source": [
    "countries_with_no_data = list(set(all_countries_on_map) - set(countries_on_date))"
   ]
  },
  {
   "cell_type": "code",
   "execution_count": null,
   "metadata": {},
   "outputs": [],
   "source": [
    "all_countries_on_map = gdf.country_code.unique()"
   ]
  },
  {
   "cell_type": "code",
   "execution_count": null,
   "metadata": {},
   "outputs": [],
   "source": [
    "import sys\n",
    "!conda install --yes --prefix {sys.prefix} imageio"
   ]
  },
  {
   "cell_type": "code",
   "execution_count": null,
   "metadata": {},
   "outputs": [],
   "source": [
    "from datetime import datetime\n",
    "all_dates = covid_data['dateRep'].unique().tolist()\n",
    "dates = [datetime.strptime(ts, \"%d/%m/%Y\") for ts in all_dates]\n",
    "dates.sort()\n",
    "dates = [datetime.strftime(ts, \"%d/%m/%Y\") for ts in dates]"
   ]
  },
  {
   "cell_type": "code",
   "execution_count": null,
   "metadata": {},
   "outputs": [],
   "source": [
    "import imageio\n",
    "images = []\n",
    "for date in dates:\n",
    "    # Tworzenie listy krajow dla ktorych brakuje danych dotyczacych covid w danym dniu.\n",
    "    countries_on_date = merged[merged['dateRep'] == date]['country_code'].tolist()\n",
    "    countries_with_no_data = list(set(all_countries_on_map) - set(countries_on_date))\n",
    "    \n",
    "    # Tworzenie podstawowego wykresu, na ktory beda nanoszone dane dotyczace liczby zgonow.\n",
    "    fig, ax = plt.subplots(figsize=(20,8))\n",
    "    merged[merged['dateRep'] == date].plot(column='deaths',  legend=False, ax=ax, cmap=\"RdYlGn_r\")\n",
    "    \n",
    "    # Tworzenie dodatkowego obiektu w legendzie, ktory bedzie reprezentowal brak danych.\n",
    "    no_data_label = mpatches.Patch(color='grey', label='No data')\n",
    "    plt.legend(handles=[no_data_label], loc='lower center')\n",
    "    \n",
    "    plt.title(\"Daily deaths: \" + date)\n",
    "    plt.axis('off')\n",
    "    \n",
    "    # Nanoszenie krajow dla ktorych brakuje danych dotyczacych covid w danym dniu w kolorze szarym.\n",
    "    for i in countries_with_no_data:\n",
    "        gdf[gdf['country_code'] == i].plot(ax=ax, color=\"grey\")\n",
    "        \n",
    "    # Eksport figur do plikow .png oraz .gif\n",
    "    filename = (date.replace(\"/\", \"_\") + \"_123.png\")\n",
    "    fig.savefig(filename, dpi=300)\n",
    "    images.append(imageio.imread(filename))\n",
    "imageio.mimsave('timelapse_deaths_daily.gif', images)"
   ]
  },
  {
   "cell_type": "code",
   "execution_count": null,
   "metadata": {},
   "outputs": [],
   "source": [
    "# import imageio\n",
    "# images = []\n",
    "for date in list_of_dates:\n",
    "    countries_on_date = merged[merged['dateRep'] == date]['country_code'].tolist()\n",
    "    countries_with_no_data = list(set(all_countries_on_map) - set(countries_on_date))\n",
    "    fig, ax = plt.subplots(figsize=(20,8))\n",
    "    merged['deaths_per_pop'] = merged['deaths']/merged['popData2018']\n",
    "    merged[merged['dateRep'] == date].plot(column='deaths_per_pop',  legend=True, ax=ax, cmap=\"RdYlGn_r\")\n",
    "    no_data_label = mpatches.Patch(color='grey', label='No data')\n",
    "    plt.legend(handles=[no_data_label], loc='lower center')\n",
    "    plt.axis('off')\n",
    "    for i in countries_with_no_data:\n",
    "        gdf[gdf['country_code'] == i].plot(ax=ax, color=\"grey\")\n",
    "        \n",
    "        \n",
    "        \n",
    "#     filename = (date.replace(\"/\", \"_\") + \"_123.png\")\n",
    "#     fig.savefig(filename, dpi=300)\n",
    "#     images.append(imageio.imread(filename))\n",
    "# imageio.mimsave('123.gif', images)"
   ]
  },
  {
   "cell_type": "code",
   "execution_count": null,
   "metadata": {},
   "outputs": [],
   "source": [
    "import imageio\n",
    "images = []\n",
    "merged['deaths_per_pop'] = merged['deaths']/merged['popData2018']\n",
    "for date in dates:\n",
    "    # Tworzenie listy krajow dla ktorych brakuje danych dotyczacych covid w danym dniu.\n",
    "    countries_on_date = merged[merged['dateRep'] == date]['country_code'].tolist()\n",
    "    countries_with_no_data = list(set(all_countries_on_map) - set(countries_on_date))\n",
    "    \n",
    "    # Tworzenie podstawowego wykresu, na ktory beda nanoszone dane dotyczace liczby zgonow.\n",
    "    fig, ax = plt.subplots(figsize=(20,8))\n",
    "    merged[merged['dateRep'] == date].plot(column='deaths_per_pop', legend=False, ax=ax, cmap=\"RdYlGn_r\")\n",
    "    \n",
    "    # Tworzenie dodatkowego obiektu w legendzie, ktory bedzie reprezentowal brak danych.\n",
    "    no_data_label = mpatches.Patch(color='grey', label='No data')\n",
    "    plt.legend(handles=[no_data_label], loc='lower center')\n",
    "    \n",
    "    plt.title(\"Daily deaths per country population: \" + date)\n",
    "    plt.axis('off')\n",
    "    \n",
    "    # Nanoszenie krajow dla ktorych brakuje danych dotyczacych covid w danym dniu w kolorze szarym.\n",
    "    for i in countries_with_no_data:\n",
    "        gdf[gdf['country_code'] == i].plot(ax=ax, color=\"grey\")\n",
    "        \n",
    "    # Eksport figur do plikow .png oraz .gif\n",
    "    filename = (\"abc_\" + date.replace(\"/\", \"_\") + \".png\")\n",
    "    fig.savefig(filename, dpi=300)\n",
    "    images.append(imageio.imread(filename))\n",
    "imageio.mimsave('2_timelapse_deaths_per_pop_daily.gif', images)"
   ]
  },
  {
   "cell_type": "code",
   "execution_count": null,
   "metadata": {},
   "outputs": [],
   "source": [
    "import imageio\n",
    "images = []\n",
    "merged = merged.assign(cumulative_deaths=merged[::-1].groupby('country_code').deaths.cumsum()[::-1])\n",
    "for date in dates:\n",
    "    # Tworzenie listy krajow dla ktorych brakuje danych dotyczacych covid w danym dniu.\n",
    "    countries_on_date = merged[merged['dateRep'] == date]['country_code'].tolist()\n",
    "    countries_with_no_data = list(set(all_countries_on_map) - set(countries_on_date))\n",
    "    \n",
    "    # Tworzenie podstawowego wykresu, na ktory beda nanoszone dane dotyczace liczby zgonow.\n",
    "    fig, ax = plt.subplots(figsize=(20,8))\n",
    "    merged[merged['dateRep'] == date].plot(column='cumulative_deaths', legend=False, ax=ax, cmap=\"RdYlGn_r\")\n",
    "    \n",
    "    # Tworzenie dodatkowego obiektu w legendzie, ktory bedzie reprezentowal brak danych.\n",
    "    no_data_label = mpatches.Patch(color='grey', label='No data')\n",
    "    plt.legend(handles=[no_data_label], loc='lower center')\n",
    "    \n",
    "    plt.title(\"Cumulative deaths for each country: \" + date)\n",
    "    plt.axis('off')\n",
    "    \n",
    "    # Nanoszenie krajow dla ktorych brakuje danych dotyczacych covid w danym dniu w kolorze szarym.\n",
    "    for i in countries_with_no_data:\n",
    "        gdf[gdf['country_code'] == i].plot(ax=ax, color=\"grey\")\n",
    "        \n",
    "    # Eksport figur do plikow .png oraz .gif\n",
    "    filename = (\"abc_\" + date.replace(\"/\", \"_\") + \".png\")\n",
    "    fig.savefig(filename, dpi=300)\n",
    "    images.append(imageio.imread(filename))\n",
    "imageio.mimsave('timelapse_cumulative_deaths.gif', images)"
   ]
  },
  {
   "cell_type": "code",
   "execution_count": null,
   "metadata": {},
   "outputs": [],
   "source": [
    "import imageio\n",
    "images = []\n",
    "merged = merged.assign(cumulative_cases=merged[::-1].groupby('country_code').cases.cumsum()[::-1])\n",
    "merged['deaths_per_cases'] = merged['cumulative_deaths']/merged['cumulative_cases']\n",
    "for date in dates:\n",
    "    # Tworzenie listy krajow dla ktorych brakuje danych dotyczacych covid w danym dniu.\n",
    "    countries_on_date = merged[merged['dateRep'] == date]['country_code'].tolist()\n",
    "    countries_with_no_data = list(set(all_countries_on_map) - set(countries_on_date))\n",
    "    \n",
    "    # Tworzenie podstawowego wykresu, na ktory beda nanoszone dane dotyczace liczby zgonow.\n",
    "    fig, ax = plt.subplots(figsize=(20,8))\n",
    "    merged[merged['dateRep'] == date].plot(column='deaths_per_cases', legend=False, ax=ax, cmap=\"RdYlGn_r\")\n",
    "    \n",
    "    # Tworzenie dodatkowego obiektu w legendzie, ktory bedzie reprezentowal brak danych.\n",
    "    no_data_label = mpatches.Patch(color='grey', label='No data')\n",
    "    plt.legend(handles=[no_data_label], loc='lower center')\n",
    "    \n",
    "    plt.title(\"Cumulative deaths per open cases: \" + date)\n",
    "    plt.axis('off')\n",
    "    \n",
    "    # Nanoszenie krajow dla ktorych brakuje danych dotyczacych covid w danym dniu w kolorze szarym.\n",
    "#     for i in countries_with_no_data:\n",
    "#         gdf[gdf['country_code'] == i].plot(ax=ax, color=\"grey\")\n",
    "        \n",
    "    # Eksport figur do plikow .png oraz .gif\n",
    "    filename = (\"abc_\" + date.replace(\"/\", \"_\") + \".png\")\n",
    "    fig.savefig(filename, dpi=300)\n",
    "    images.append(imageio.imread(filename))\n",
    "imageio.mimsave('timelapse_deaths_per_cases.gif', images)"
   ]
  },
  {
   "cell_type": "code",
   "execution_count": null,
   "metadata": {},
   "outputs": [],
   "source": []
  }
 ],
 "metadata": {
  "kernelspec": {
   "display_name": "Python 3",
   "language": "python",
   "name": "python3"
  },
  "language_info": {
   "codemirror_mode": {
    "name": "ipython",
    "version": 3
   },
   "file_extension": ".py",
   "mimetype": "text/x-python",
   "name": "python",
   "nbconvert_exporter": "python",
   "pygments_lexer": "ipython3",
   "version": "3.8.2"
  }
 },
 "nbformat": 4,
 "nbformat_minor": 4
}
